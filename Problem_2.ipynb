{
 "cells": [
  {
   "cell_type": "markdown",
   "id": "4d6e6d9b",
   "metadata": {},
   "source": [
    "# Product matching"
   ]
  },
  {
   "cell_type": "markdown",
   "id": "e9564cf5",
   "metadata": {},
   "source": [
    "***Using ML/DL techniques, match similar products from the Flipkart dataset with the Amazon dataset. Once\n",
    "similar products are matched, display the retail price from FK and AMZ side by side.***"
   ]
  },
  {
   "cell_type": "markdown",
   "id": "8359f26a",
   "metadata": {},
   "source": [
    "***Data extraction***"
   ]
  },
  {
   "cell_type": "code",
   "execution_count": 1,
   "id": "1f223755",
   "metadata": {},
   "outputs": [],
   "source": [
    "# Importing required libraries\n",
    "import pandas as pd\n",
    "import numpy as np\n",
    "import matplotlib.pyplot as plt\n",
    "import seaborn as sns\n",
    "import mpl_toolkits\n",
    "%matplotlib inline"
   ]
  },
  {
   "cell_type": "code",
   "execution_count": 2,
   "id": "8a575473",
   "metadata": {},
   "outputs": [],
   "source": [
    "# Reading data in csv format to dataframe\n",
    "amazon_products = pd.read_csv(\"DS - Assignment Part 2 data set/amz_com-ecommerce_sample.csv\", encoding= 'unicode_escape')\n",
    "flipkart_products = pd.read_csv(\"DS - Assignment Part 2 data set/flipkart_com-ecommerce_sample.csv\", encoding= 'unicode_escape')\n",
    "# Creating new column to provide its website\n",
    "amazon_products['website']='amazon'\n",
    "flipkart_products['website']='flipkart'"
   ]
  },
  {
   "cell_type": "markdown",
   "id": "97cf0255",
   "metadata": {},
   "source": [
    "***Data Info***"
   ]
  },
  {
   "cell_type": "code",
   "execution_count": 3,
   "id": "98234aff",
   "metadata": {},
   "outputs": [
    {
     "data": {
      "text/html": [
       "<div>\n",
       "<style scoped>\n",
       "    .dataframe tbody tr th:only-of-type {\n",
       "        vertical-align: middle;\n",
       "    }\n",
       "\n",
       "    .dataframe tbody tr th {\n",
       "        vertical-align: top;\n",
       "    }\n",
       "\n",
       "    .dataframe thead th {\n",
       "        text-align: right;\n",
       "    }\n",
       "</style>\n",
       "<table border=\"1\" class=\"dataframe\">\n",
       "  <thead>\n",
       "    <tr style=\"text-align: right;\">\n",
       "      <th></th>\n",
       "      <th>retail_price</th>\n",
       "      <th>discounted_price</th>\n",
       "    </tr>\n",
       "  </thead>\n",
       "  <tbody>\n",
       "    <tr>\n",
       "      <th>count</th>\n",
       "      <td>20000.000000</td>\n",
       "      <td>20000.00000</td>\n",
       "    </tr>\n",
       "    <tr>\n",
       "      <th>mean</th>\n",
       "      <td>2957.095150</td>\n",
       "      <td>2364.59705</td>\n",
       "    </tr>\n",
       "    <tr>\n",
       "      <th>std</th>\n",
       "      <td>8993.993257</td>\n",
       "      <td>8994.62368</td>\n",
       "    </tr>\n",
       "    <tr>\n",
       "      <th>min</th>\n",
       "      <td>-20.000000</td>\n",
       "      <td>0.00000</td>\n",
       "    </tr>\n",
       "    <tr>\n",
       "      <th>25%</th>\n",
       "      <td>647.000000</td>\n",
       "      <td>424.00000</td>\n",
       "    </tr>\n",
       "    <tr>\n",
       "      <th>50%</th>\n",
       "      <td>999.000000</td>\n",
       "      <td>663.00000</td>\n",
       "    </tr>\n",
       "    <tr>\n",
       "      <th>75%</th>\n",
       "      <td>1986.000000</td>\n",
       "      <td>1235.00000</td>\n",
       "    </tr>\n",
       "    <tr>\n",
       "      <th>max</th>\n",
       "      <td>571223.000000</td>\n",
       "      <td>726879.00000</td>\n",
       "    </tr>\n",
       "  </tbody>\n",
       "</table>\n",
       "</div>"
      ],
      "text/plain": [
       "        retail_price  discounted_price\n",
       "count   20000.000000       20000.00000\n",
       "mean     2957.095150        2364.59705\n",
       "std      8993.993257        8994.62368\n",
       "min       -20.000000           0.00000\n",
       "25%       647.000000         424.00000\n",
       "50%       999.000000         663.00000\n",
       "75%      1986.000000        1235.00000\n",
       "max    571223.000000      726879.00000"
      ]
     },
     "execution_count": 3,
     "metadata": {},
     "output_type": "execute_result"
    }
   ],
   "source": [
    "# Shows various statistics of features (columns)\n",
    "amazon_products.describe()"
   ]
  },
  {
   "cell_type": "code",
   "execution_count": 4,
   "id": "c1005509",
   "metadata": {},
   "outputs": [
    {
     "data": {
      "text/html": [
       "<div>\n",
       "<style scoped>\n",
       "    .dataframe tbody tr th:only-of-type {\n",
       "        vertical-align: middle;\n",
       "    }\n",
       "\n",
       "    .dataframe tbody tr th {\n",
       "        vertical-align: top;\n",
       "    }\n",
       "\n",
       "    .dataframe thead th {\n",
       "        text-align: right;\n",
       "    }\n",
       "</style>\n",
       "<table border=\"1\" class=\"dataframe\">\n",
       "  <thead>\n",
       "    <tr style=\"text-align: right;\">\n",
       "      <th></th>\n",
       "      <th>retail_price</th>\n",
       "      <th>discounted_price</th>\n",
       "    </tr>\n",
       "  </thead>\n",
       "  <tbody>\n",
       "    <tr>\n",
       "      <th>count</th>\n",
       "      <td>19922.000000</td>\n",
       "      <td>19922.000000</td>\n",
       "    </tr>\n",
       "    <tr>\n",
       "      <th>mean</th>\n",
       "      <td>2979.206104</td>\n",
       "      <td>1973.401767</td>\n",
       "    </tr>\n",
       "    <tr>\n",
       "      <th>std</th>\n",
       "      <td>9009.639341</td>\n",
       "      <td>7333.586040</td>\n",
       "    </tr>\n",
       "    <tr>\n",
       "      <th>min</th>\n",
       "      <td>35.000000</td>\n",
       "      <td>35.000000</td>\n",
       "    </tr>\n",
       "    <tr>\n",
       "      <th>25%</th>\n",
       "      <td>666.000000</td>\n",
       "      <td>350.000000</td>\n",
       "    </tr>\n",
       "    <tr>\n",
       "      <th>50%</th>\n",
       "      <td>1040.000000</td>\n",
       "      <td>550.000000</td>\n",
       "    </tr>\n",
       "    <tr>\n",
       "      <th>75%</th>\n",
       "      <td>1999.000000</td>\n",
       "      <td>999.000000</td>\n",
       "    </tr>\n",
       "    <tr>\n",
       "      <th>max</th>\n",
       "      <td>571230.000000</td>\n",
       "      <td>571230.000000</td>\n",
       "    </tr>\n",
       "  </tbody>\n",
       "</table>\n",
       "</div>"
      ],
      "text/plain": [
       "        retail_price  discounted_price\n",
       "count   19922.000000      19922.000000\n",
       "mean     2979.206104       1973.401767\n",
       "std      9009.639341       7333.586040\n",
       "min        35.000000         35.000000\n",
       "25%       666.000000        350.000000\n",
       "50%      1040.000000        550.000000\n",
       "75%      1999.000000        999.000000\n",
       "max    571230.000000     571230.000000"
      ]
     },
     "execution_count": 4,
     "metadata": {},
     "output_type": "execute_result"
    }
   ],
   "source": [
    "# Shows various statistics of features (columns)\n",
    "flipkart_products.describe()"
   ]
  },
  {
   "cell_type": "code",
   "execution_count": 5,
   "id": "2d7587de",
   "metadata": {},
   "outputs": [
    {
     "name": "stdout",
     "output_type": "stream",
     "text": [
      "<class 'pandas.core.frame.DataFrame'>\n",
      "RangeIndex: 20000 entries, 0 to 19999\n",
      "Data columns (total 16 columns):\n",
      " #   Column                   Non-Null Count  Dtype \n",
      "---  ------                   --------------  ----- \n",
      " 0   uniq_id                  20000 non-null  object\n",
      " 1   crawl_timestamp          20000 non-null  object\n",
      " 2   product_url              20000 non-null  object\n",
      " 3   product_name             20000 non-null  object\n",
      " 4   product_category_tree    20000 non-null  object\n",
      " 5   pid                      20000 non-null  object\n",
      " 6   retail_price             20000 non-null  int64 \n",
      " 7   discounted_price         20000 non-null  int64 \n",
      " 8   image                    19997 non-null  object\n",
      " 9   is_FK_Advantage_product  20000 non-null  bool  \n",
      " 10  description              19998 non-null  object\n",
      " 11  product_rating           20000 non-null  object\n",
      " 12  overall_rating           20000 non-null  object\n",
      " 13  brand                    14136 non-null  object\n",
      " 14  product_specifications   19986 non-null  object\n",
      " 15  website                  20000 non-null  object\n",
      "dtypes: bool(1), int64(2), object(13)\n",
      "memory usage: 2.3+ MB\n"
     ]
    }
   ],
   "source": [
    "# Cross checking all columns, for findind NAN/null values to data cleaning \n",
    "amazon_products.info()"
   ]
  },
  {
   "cell_type": "code",
   "execution_count": 6,
   "id": "f6d6a222",
   "metadata": {},
   "outputs": [
    {
     "name": "stdout",
     "output_type": "stream",
     "text": [
      "<class 'pandas.core.frame.DataFrame'>\n",
      "RangeIndex: 20000 entries, 0 to 19999\n",
      "Data columns (total 16 columns):\n",
      " #   Column                   Non-Null Count  Dtype  \n",
      "---  ------                   --------------  -----  \n",
      " 0   uniq_id                  20000 non-null  object \n",
      " 1   crawl_timestamp          20000 non-null  object \n",
      " 2   product_url              20000 non-null  object \n",
      " 3   product_name             20000 non-null  object \n",
      " 4   product_category_tree    20000 non-null  object \n",
      " 5   pid                      20000 non-null  object \n",
      " 6   retail_price             19922 non-null  float64\n",
      " 7   discounted_price         19922 non-null  float64\n",
      " 8   image                    19997 non-null  object \n",
      " 9   is_FK_Advantage_product  20000 non-null  bool   \n",
      " 10  description              19998 non-null  object \n",
      " 11  product_rating           20000 non-null  object \n",
      " 12  overall_rating           20000 non-null  object \n",
      " 13  brand                    14136 non-null  object \n",
      " 14  product_specifications   19986 non-null  object \n",
      " 15  website                  20000 non-null  object \n",
      "dtypes: bool(1), float64(2), object(13)\n",
      "memory usage: 2.3+ MB\n"
     ]
    }
   ],
   "source": [
    "# Cross checking all columns, for findind NAN/null values to data cleaning \n",
    "flipkart_products.info()"
   ]
  },
  {
   "cell_type": "markdown",
   "id": "3503dec9",
   "metadata": {},
   "source": [
    "Below we are using product name as feature, which is non empty for all rows hence data cleaning is not required"
   ]
  },
  {
   "cell_type": "markdown",
   "id": "9d011767",
   "metadata": {},
   "source": [
    "***Creating variables***"
   ]
  },
  {
   "cell_type": "code",
   "execution_count": 7,
   "id": "398c8479",
   "metadata": {},
   "outputs": [],
   "source": [
    "amazon_products_names_list=[]"
   ]
  },
  {
   "cell_type": "code",
   "execution_count": 8,
   "id": "47d4088a",
   "metadata": {},
   "outputs": [],
   "source": [
    "flipkart_products_names_list=[]"
   ]
  },
  {
   "cell_type": "code",
   "execution_count": 9,
   "id": "6c036a33",
   "metadata": {},
   "outputs": [],
   "source": [
    "count=0\n",
    "for i in amazon_products['product_name']:\n",
    "    temp=[]\n",
    "    temp.append(i)\n",
    "    temp.append(count)\n",
    "    count+=1\n",
    "    amazon_products_names_list.append(temp)"
   ]
  },
  {
   "cell_type": "code",
   "execution_count": 10,
   "id": "fc8fbdbf",
   "metadata": {},
   "outputs": [],
   "source": [
    "count=0\n",
    "for i in flipkart_products['product_name']:\n",
    "    temp=[]\n",
    "    temp.append(i)\n",
    "    temp.append(count)\n",
    "    count+=1\n",
    "    flipkart_products_names_list.append(temp)"
   ]
  },
  {
   "cell_type": "code",
   "execution_count": 11,
   "id": "007993dc",
   "metadata": {},
   "outputs": [
    {
     "data": {
      "text/plain": [
       "0            Alisha Solid Women's Cycling Shorts\n",
       "1            FabHomeDecor Fabric Double Sofa Bed\n",
       "2                                     AW Bellies\n",
       "3            Alisha Solid Women's Cycling Shorts\n",
       "4          Sicons All Purpose Arnica Dog Shampoo\n",
       "                          ...                   \n",
       "19995             WallDesign Small Vinyl Sticker\n",
       "19996    Wallmantra Large Vinyl Stickers Sticker\n",
       "19997    Elite Collection Medium Acrylic Sticker\n",
       "19998    Elite Collection Medium Acrylic Sticker\n",
       "19999    Elite Collection Medium Acrylic Sticker\n",
       "Name: product_name, Length: 20000, dtype: object"
      ]
     },
     "execution_count": 11,
     "metadata": {},
     "output_type": "execute_result"
    }
   ],
   "source": [
    "flipkart_products['product_name']"
   ]
  },
  {
   "cell_type": "code",
   "execution_count": 12,
   "id": "059675ce",
   "metadata": {},
   "outputs": [],
   "source": [
    "products=amazon_products_names_list+flipkart_products_names_list"
   ]
  },
  {
   "cell_type": "code",
   "execution_count": 13,
   "id": "168df9d7",
   "metadata": {},
   "outputs": [],
   "source": [
    "sentences=[]\n",
    "for i in products:\n",
    "    sentences.append(i[0])"
   ]
  },
  {
   "cell_type": "markdown",
   "id": "e8785c70",
   "metadata": {},
   "source": [
    "***Using Transformers with hugging face library***"
   ]
  },
  {
   "cell_type": "markdown",
   "id": "28138a4e",
   "metadata": {},
   "source": [
    "***Finding similairty with product name as feature***"
   ]
  },
  {
   "cell_type": "code",
   "execution_count": 14,
   "id": "e311527b",
   "metadata": {},
   "outputs": [],
   "source": [
    "# Importing model\n",
    "from sentence_transformers import SentenceTransformer"
   ]
  },
  {
   "cell_type": "code",
   "execution_count": 15,
   "id": "567591e9",
   "metadata": {},
   "outputs": [],
   "source": [
    "# Loading model\n",
    "model = SentenceTransformer('bert-base-nli-mean-tokens')"
   ]
  },
  {
   "cell_type": "code",
   "execution_count": 16,
   "id": "97db265f",
   "metadata": {},
   "outputs": [
    {
     "data": {
      "text/plain": [
       "(40000, 768)"
      ]
     },
     "execution_count": 16,
     "metadata": {},
     "output_type": "execute_result"
    }
   ],
   "source": [
    "# Encoding the sentences\n",
    "sentence_embeddings = model.encode(sentences)\n",
    "sentence_embeddings.shape"
   ]
  },
  {
   "cell_type": "markdown",
   "id": "29d2db18",
   "metadata": {},
   "source": [
    "***Using Cosine similarity***"
   ]
  },
  {
   "cell_type": "code",
   "execution_count": 24,
   "id": "807b79a2",
   "metadata": {},
   "outputs": [],
   "source": [
    "# Finding similairy using cosine similarity\n",
    "from sklearn.metrics.pairwise import cosine_similarity"
   ]
  },
  {
   "cell_type": "code",
   "execution_count": null,
   "id": "979bb5e5",
   "metadata": {},
   "outputs": [],
   "source": [
    "# Taking item name as input\n",
    "input_item=input(\"Enter product name: \")"
   ]
  },
  {
   "cell_type": "code",
   "execution_count": 162,
   "id": "9d0e826a",
   "metadata": {},
   "outputs": [],
   "source": [
    "input_item=\"FDT Women's Leggings\""
   ]
  },
  {
   "cell_type": "code",
   "execution_count": 163,
   "id": "5f5215a6",
   "metadata": {},
   "outputs": [],
   "source": [
    "# Collecting all the instances of item in amazon dataset\n",
    "amazon_dump=[]\n",
    "for i in amazon_products_names_list:\n",
    "    if input_item in i:\n",
    "        amazon_dump.append(i[1])  "
   ]
  },
  {
   "cell_type": "code",
   "execution_count": 164,
   "id": "44c643cf",
   "metadata": {},
   "outputs": [],
   "source": [
    "# Collecting all the instances of item in flipkart dataset\n",
    "flipkart_dump=[]\n",
    "for i in flipkart_products_names_list:\n",
    "    if input_item in i:\n",
    "        flipkart_dump.append(i[1])  "
   ]
  },
  {
   "cell_type": "code",
   "execution_count": 165,
   "id": "c2a8220a",
   "metadata": {},
   "outputs": [
    {
     "name": "stdout",
     "output_type": "stream",
     "text": [
      "Prices comparison between amazon and flipkart\n",
      "-----------------------------------------------\n",
      "Product name in flipkart: FDT Women's Leggings\n",
      "Retail price in flipkart: 699.0\n",
      "Discounted price in flipkart: 309.0\n",
      "-----------------------------------------------\n",
      "Product name in amazon: FDT WOMEN'S Leggings Pants\n",
      "Retail price in amazon: 698\n",
      "Discounted price in amzon: 362\n",
      "-----------------------------------------------\n",
      "Product name in amazon: Addline Women's Leggings\n",
      "Retail price in amazon: 1784\n",
      "Discounted price in amzon: 740\n",
      "-----------------------------------------------\n",
      "Product name in amazon: Addline Women's Leggings\n",
      "Retail price in amazon: 991\n",
      "Discounted price in amzon: 474\n",
      "-----------------------------------------------\n",
      "Product name in amazon: Addline Women's Leggings\n",
      "Retail price in amazon: 994\n",
      "Discounted price in amzon: 415\n",
      "-----------------------------------------------\n",
      "Product name in amazon: Leebonee Women's Leggings\n",
      "Retail price in amazon: 486\n",
      "Discounted price in amzon: 423\n",
      "-----------------------------------------------\n",
      "Product name in amazon: Avelen Women's Leggings\n",
      "Retail price in amazon: 344\n",
      "Discounted price in amzon: 204\n",
      "-----------------------------------------------\n",
      "Product name in amazon: Klick Women's Leggings\n",
      "Retail price in amazon: 837\n",
      "Discounted price in amzon: 268\n",
      "-----------------------------------------------\n",
      "Product name in amazon: Klick Women's Leggings\n",
      "Retail price in amazon: 983\n",
      "Discounted price in amzon: 466\n",
      "-----------------------------------------------\n",
      "Product name in amazon: NE Women's Leggings\n",
      "Retail price in amazon: 1182\n",
      "Discounted price in amzon: 617\n",
      "-----------------------------------------------\n",
      "Product name in amazon: NE Women's Leggings\n",
      "Retail price in amazon: 1193\n",
      "Discounted price in amzon: 625\n",
      "-----------------------------------------------\n",
      "Product name in amazon: NE Women's Leggings\n",
      "Retail price in amazon: 1197\n",
      "Discounted price in amzon: 622\n",
      "-----------------------------------------------\n",
      "Product name in amazon: NE Women's Leggings\n",
      "Retail price in amazon: 795\n",
      "Discounted price in amzon: 443\n",
      "-----------------------------------------------\n",
      "Product name in amazon: NE Women's Leggings\n",
      "Retail price in amazon: 1193\n",
      "Discounted price in amzon: 592\n",
      "-----------------------------------------------\n",
      "Product name in amazon: NE Women's Leggings\n",
      "Retail price in amazon: 1198\n",
      "Discounted price in amzon: 648\n",
      "-----------------------------------------------\n",
      "Product name in amazon: NE Women's Leggings\n",
      "Retail price in amazon: 1191\n",
      "Discounted price in amzon: 559\n",
      "-----------------------------------------------\n",
      "Product name in amazon: NE Women's Leggings\n",
      "Retail price in amazon: 1197\n",
      "Discounted price in amzon: 630\n",
      "-----------------------------------------------\n",
      "Product name in amazon: NE Women's Leggings\n",
      "Retail price in amazon: 1182\n",
      "Discounted price in amzon: 620\n",
      "-----------------------------------------------\n",
      "Product name in amazon: NE Women's Leggings\n",
      "Retail price in amazon: 1179\n",
      "Discounted price in amzon: 561\n",
      "-----------------------------------------------\n",
      "Product name in amazon: NE Women's Leggings\n",
      "Retail price in amazon: 793\n",
      "Discounted price in amzon: 468\n",
      "-----------------------------------------------\n",
      "Product name in amazon: NE Women's Leggings\n",
      "Retail price in amazon: 787\n",
      "Discounted price in amzon: 441\n",
      "-----------------------------------------------\n",
      "Product name in amazon: NE Women's Leggings\n",
      "Retail price in amazon: 1193\n",
      "Discounted price in amzon: 608\n",
      "-----------------------------------------------\n",
      "Product name in amazon: NE Women's Leggings\n",
      "Retail price in amazon: 1196\n",
      "Discounted price in amzon: 604\n",
      "-----------------------------------------------\n",
      "Product name in amazon: NE Women's Leggings\n",
      "Retail price in amazon: 1183\n",
      "Discounted price in amzon: 553\n",
      "-----------------------------------------------\n",
      "Product name in amazon: NE Women's Leggings\n",
      "Retail price in amazon: 1184\n",
      "Discounted price in amzon: 603\n",
      "-----------------------------------------------\n",
      "Product name in amazon: NE Women's Leggings\n",
      "Retail price in amazon: 1187\n",
      "Discounted price in amzon: 619\n",
      "-----------------------------------------------\n",
      "Product name in amazon: NE Women's Leggings\n",
      "Retail price in amazon: 1188\n",
      "Discounted price in amzon: 615\n",
      "-----------------------------------------------\n",
      "Product name in amazon: NE Women's Leggings\n",
      "Retail price in amazon: 1183\n",
      "Discounted price in amzon: 640\n",
      "-----------------------------------------------\n",
      "Product name in amazon: NE Women's Leggings\n",
      "Retail price in amazon: 1184\n",
      "Discounted price in amzon: 628\n",
      "-----------------------------------------------\n",
      "Product name in amazon: NE Women's Leggings\n",
      "Retail price in amazon: 790\n",
      "Discounted price in amzon: 426\n",
      "-----------------------------------------------\n",
      "Product name in amazon: NE Women's Leggings\n",
      "Retail price in amazon: 794\n",
      "Discounted price in amzon: 432\n",
      "-----------------------------------------------\n",
      "Product name in amazon: NE Women's Leggings\n",
      "Retail price in amazon: 787\n",
      "Discounted price in amzon: 463\n",
      "-----------------------------------------------\n",
      "Product name in amazon: NE Women's Leggings\n",
      "Retail price in amazon: 1197\n",
      "Discounted price in amzon: 588\n",
      "-----------------------------------------------\n",
      "Product name in amazon: NE Women's Leggings\n",
      "Retail price in amazon: 1090\n",
      "Discounted price in amzon: 516\n",
      "-----------------------------------------------\n",
      "Product name in amazon: NE Women's Leggings\n",
      "Retail price in amazon: 1079\n",
      "Discounted price in amzon: 546\n",
      "-----------------------------------------------\n",
      "Product name in amazon: NE Women's Leggings\n",
      "Retail price in amazon: 1180\n",
      "Discounted price in amzon: 595\n",
      "-----------------------------------------------\n",
      "Product name in amazon: NE Women's Leggings\n",
      "Retail price in amazon: 1198\n",
      "Discounted price in amzon: 570\n",
      "-----------------------------------------------\n",
      "Product name in amazon: NE Women's Leggings\n",
      "Retail price in amazon: 1189\n",
      "Discounted price in amzon: 647\n",
      "-----------------------------------------------\n",
      "Product name in amazon: NE Women's Leggings\n",
      "Retail price in amazon: 795\n",
      "Discounted price in amzon: 406\n",
      "-----------------------------------------------\n",
      "Product name in amazon: NE Women's Leggings\n",
      "Retail price in amazon: 1180\n",
      "Discounted price in amzon: 560\n",
      "-----------------------------------------------\n",
      "Product name in amazon: NE Women's Leggings\n",
      "Retail price in amazon: 1093\n",
      "Discounted price in amzon: 549\n",
      "-----------------------------------------------\n",
      "Product name in amazon: NE Women's Leggings\n",
      "Retail price in amazon: 1093\n",
      "Discounted price in amzon: 536\n",
      "-----------------------------------------------\n",
      "Product name in amazon: NE Women's Leggings\n",
      "Retail price in amazon: 1092\n",
      "Discounted price in amzon: 577\n",
      "-----------------------------------------------\n",
      "Product name in amazon: NE Women's Leggings\n",
      "Retail price in amazon: 1084\n",
      "Discounted price in amzon: 566\n",
      "-----------------------------------------------\n",
      "Product name in amazon: LGRL WOMEN'S LEGGINGS\n",
      "Retail price in amazon: 983\n",
      "Discounted price in amzon: 592\n"
     ]
    }
   ],
   "source": [
    "# Comparing prices\n",
    "if(len(amazon_dump) == len(flipkart_dump) == 0):\n",
    "    print(\"Item is not present in both the datsets\")\n",
    "else:\n",
    "    if(len(amazon_dump)==0 and len(flipkart_dump)!=0):\n",
    "        similaity_value_list=(cosine_similarity([sentence_embeddings[flipkart_dump[0]]],sentence_embeddings)).tolist()\n",
    "        similaity_value_list=similaity_value_list[0]\n",
    "        all_similar_amazon=[]\n",
    "        count=0\n",
    "        for i in similaity_value_list:\n",
    "            # Only taking products which have similairty value greater than 0.9\n",
    "            if i>0.9:\n",
    "                if count>20000:\n",
    "                    all_similar_amazon.append(count)\n",
    "            count+=1\n",
    "        #print(all_similar_amazon)\n",
    "        print(\"Prices comparison between amazon and flipkart\")\n",
    "        for i in flipkart_dump:\n",
    "            print(\"-----------------------------------------------\")\n",
    "            print(f\"Product name in flipkart: {flipkart_products['product_name'][i]}\")\n",
    "            print(f\"Retail price in flipkart: {flipkart_products['retail_price'][i]}\")\n",
    "            print(f\"Discounted price in flipkart: {flipkart_products['discounted_price'][i]}\")\n",
    "        for i in all_similar_amazon:\n",
    "            print(\"-----------------------------------------------\")\n",
    "            print(f\"Product name in amazon: {amazon_products['product_name'][i-20000]}\")\n",
    "            print(f\"Retail price in amazon: {amazon_products['retail_price'][i-20000]}\")\n",
    "            print(f\"Discounted price in amzon: {amazon_products['discounted_price'][i-20000]}\")\n",
    "    else:\n",
    "        similaity_value_list=(cosine_similarity([sentence_embeddings[amazon_dump[0]]],sentence_embeddings)).tolist()\n",
    "        similaity_value_list=similaity_value_list[0]\n",
    "        all_similar_flipkart=[]\n",
    "        count=0\n",
    "        for i in similaity_value_list:\n",
    "            # Only taking products which have similairty value greater than 0.9\n",
    "            if i>0.9:\n",
    "                if count>20000:\n",
    "                    all_similar_flipkart.append(count)\n",
    "            count+=1\n",
    "        #print(all_similar_flipkart)\n",
    "        print(\"Prices comparison between amazon and flipkart\")\n",
    "        #print(amazon_dump)\n",
    "        #print(all_similar_flipkart)\n",
    "        for i in amazon_dump:\n",
    "            print(\"-----------------------------------------------\")\n",
    "            print(f\"Product name in amazon: {amazon_products['product_name'][i]}\")\n",
    "            print(f\"Retail price in amazon: {amazon_products['retail_price'][i]}\")\n",
    "            print(f\"Discounted price in amazon: {amazon_products['discounted_price'][i]}\")\n",
    "        for i in all_similar_flipkart:\n",
    "            print(\"-----------------------------------------------\")\n",
    "            print(f\"Product name in flipkart: {flipkart_products['product_name'][i-20000]}\")\n",
    "            print(f\"Retail price in flipkart: {flipkart_products['retail_price'][i-20000]}\")\n",
    "            print(f\"Discounted price in flipkart: {flipkart_products['discounted_price'][i-20000]}\")\n",
    "        \n",
    "        "
   ]
  },
  {
   "cell_type": "markdown",
   "id": "7d8eb5f3",
   "metadata": {},
   "source": [
    "Here we can see that using the product name as a feature compares the product with the only item, not the brand.\n",
    "This can be used when we compare similar product prices across all brands."
   ]
  },
  {
   "cell_type": "markdown",
   "id": "3bacfdd5",
   "metadata": {},
   "source": [
    "Note: I have done the comparison vertically, it can be done sideways too"
   ]
  },
  {
   "cell_type": "markdown",
   "id": "091227b8",
   "metadata": {},
   "source": [
    "***Using product description as feature***"
   ]
  },
  {
   "cell_type": "markdown",
   "id": "6aee75d9",
   "metadata": {},
   "source": [
    "Here we are using product category tree as feature, which no NAN rows, so we data cleaning is not required"
   ]
  },
  {
   "cell_type": "code",
   "execution_count": 40,
   "id": "e183ac44",
   "metadata": {},
   "outputs": [],
   "source": [
    "amazon_products_desc_list=[]\n",
    "flipkart_products_desc_list=[]"
   ]
  },
  {
   "cell_type": "code",
   "execution_count": 41,
   "id": "bf7f3f0d",
   "metadata": {},
   "outputs": [],
   "source": [
    "count=0\n",
    "for i in amazon_products['product_category_tree']:\n",
    "    temp=[]\n",
    "    temp.append(i)\n",
    "    temp.append(count)\n",
    "    count+=1\n",
    "    amazon_products_desc_list.append(temp)"
   ]
  },
  {
   "cell_type": "code",
   "execution_count": 42,
   "id": "93a67c18",
   "metadata": {},
   "outputs": [],
   "source": [
    "count=0\n",
    "for i in flipkart_products['product_category_tree']:\n",
    "    temp=[]\n",
    "    temp.append(i)\n",
    "    temp.append(count)\n",
    "    count+=1\n",
    "    flipkart_products_desc_list.append(temp)"
   ]
  },
  {
   "cell_type": "code",
   "execution_count": 43,
   "id": "ce4f3dca",
   "metadata": {},
   "outputs": [],
   "source": [
    "desc=amazon_products_desc_list+flipkart_products_desc_list"
   ]
  },
  {
   "cell_type": "code",
   "execution_count": 51,
   "id": "3f074102",
   "metadata": {},
   "outputs": [],
   "source": [
    "catg_treees=[]\n",
    "for i in desc:\n",
    "    catg_treees.append(i[0])"
   ]
  },
  {
   "cell_type": "code",
   "execution_count": 103,
   "id": "04bc1c92",
   "metadata": {},
   "outputs": [],
   "source": [
    "count=0\n",
    "flip_desc_ind=[]\n",
    "for i in flipkart_products['product_category_tree']:\n",
    "    temp=[]\n",
    "    temp.append(i)\n",
    "    temp.append(count)\n",
    "    temp.append(flipkart_products['product_name'][count])\n",
    "    flip_desc_ind.append(temp)\n",
    "    count+=1"
   ]
  },
  {
   "cell_type": "code",
   "execution_count": 104,
   "id": "e77b50b5",
   "metadata": {},
   "outputs": [],
   "source": [
    "count=0\n",
    "amzn_desc_ind=[]\n",
    "for i in amazon_products['product_category_tree']:\n",
    "    temp=[]\n",
    "    temp.append(i)\n",
    "    temp.append(count)\n",
    "    temp.append(amazon_products['product_name'][count])\n",
    "    amzn_desc_ind.append(temp)\n",
    "    count+=1"
   ]
  },
  {
   "cell_type": "markdown",
   "id": "d8f58d35",
   "metadata": {},
   "source": [
    "***Using the previous used model on product_category_tree feature***"
   ]
  },
  {
   "cell_type": "code",
   "execution_count": 46,
   "id": "98b1b040",
   "metadata": {},
   "outputs": [],
   "source": [
    "model = SentenceTransformer('bert-base-nli-mean-tokens')"
   ]
  },
  {
   "cell_type": "code",
   "execution_count": 53,
   "id": "f060257d",
   "metadata": {},
   "outputs": [
    {
     "data": {
      "text/plain": [
       "(40000, 768)"
      ]
     },
     "execution_count": 53,
     "metadata": {},
     "output_type": "execute_result"
    }
   ],
   "source": [
    "# Encoding the sentences\n",
    "catg_treees_embeddings = model.encode(catg_treees)\n",
    "catg_treees_embeddings.shape"
   ]
  },
  {
   "cell_type": "code",
   "execution_count": 151,
   "id": "8f9273a6",
   "metadata": {},
   "outputs": [],
   "source": [
    "input_item_desc=''"
   ]
  },
  {
   "cell_type": "code",
   "execution_count": 152,
   "id": "77871d12",
   "metadata": {},
   "outputs": [],
   "source": [
    "for i in flip_desc_ind:\n",
    "    if input_item in i:\n",
    "        input_item_desc=i[0]"
   ]
  },
  {
   "cell_type": "code",
   "execution_count": 153,
   "id": "0ea594cb",
   "metadata": {},
   "outputs": [],
   "source": [
    "for i in  amzn_desc_ind:\n",
    "    if input_item in i:\n",
    "        input_item_desc=i[0]"
   ]
  },
  {
   "cell_type": "code",
   "execution_count": 154,
   "id": "2821b64b",
   "metadata": {},
   "outputs": [],
   "source": [
    "# Collecting all the instances of item in amazon dataset\n",
    "amazon_dump_2=[]\n",
    "for i in amazon_products_desc_list:\n",
    "    if input_item_desc in i:\n",
    "        amazon_dump_2.append(i[1])  "
   ]
  },
  {
   "cell_type": "code",
   "execution_count": 155,
   "id": "8c18d3e3",
   "metadata": {},
   "outputs": [],
   "source": [
    "# Collecting all the instances of item in flipkart dataset\n",
    "flipkart_dump_2=[]\n",
    "for i in flipkart_products_desc_list:\n",
    "    if input_item_desc in i:\n",
    "        amazon_dump_2.append(i[1])  "
   ]
  },
  {
   "cell_type": "code",
   "execution_count": 156,
   "id": "99ee6255",
   "metadata": {},
   "outputs": [
    {
     "name": "stdout",
     "output_type": "stream",
     "text": [
      "Prices comparison between amazon and flipkart\n",
      "-----------------------------------------------\n",
      "Product name in amazon: FDT WOMEN'S Leggings Pants\n",
      "Retail price in amazon: 698\n",
      "Discounted price in amazon: 362\n",
      "-----------------------------------------------\n",
      "Product name in flipkart: FDT Women's Leggings\n",
      "Retail price in flipkart: 699.0\n",
      "Discounted price in flipkart: 309.0\n"
     ]
    }
   ],
   "source": [
    "# Comparing prices\n",
    "if(len(amazon_dump_2) == len(flipkart_dump_2) == 0):\n",
    "    print(\"Item is not present in both the datsets\")\n",
    "else:\n",
    "    if(len(amazon_dump_2)==0 and len(flipkart_dump_2_2)!=0):\n",
    "        similaity_value_list=(cosine_similarity([catg_treees_embeddings[flipkart_dump_2[0]]],catg_treees_embeddings)).tolist()\n",
    "        similaity_value_list=similaity_value_list[0]\n",
    "        all_similar_amazon=[]\n",
    "        count=0\n",
    "        for i in similaity_value_list:\n",
    "            # Only taking products which have similairty value greater than 0.9\n",
    "            if i>0.9:\n",
    "                if count>20000:\n",
    "                    all_similar_amazon.append(count)\n",
    "            count+=1\n",
    "        #print(all_similar_amazon)\n",
    "        print(\"Prices comparison between amazon and flipkart\")\n",
    "        for i in flipkart_dump_2:\n",
    "            print(\"-----------------------------------------------\")\n",
    "            print(f\"Product name in flipkart: {flipkart_products['product_name'][i]}\")\n",
    "            print(f\"Retail price in flipkart: {flipkart_products['retail_price'][i]}\")\n",
    "            print(f\"Discounted price in flipkart: {flipkart_products['discounted_price'][i]}\")\n",
    "        for i in all_similar_amazon:\n",
    "            print(\"-----------------------------------------------\")\n",
    "            print(f\"Product name in amazon: {amazon_products['product_name'][i-20000]}\")\n",
    "            print(f\"Retail price in amazon: {amazon_products['retail_price'][i-20000]}\")\n",
    "            print(f\"Discounted price in amzon: {amazon_products['discounted_price'][i-20000]}\")\n",
    "    else:\n",
    "        similaity_value_list=(cosine_similarity([catg_treees_embeddings[amazon_dump_2[0]]],catg_treees_embeddings)).tolist()\n",
    "        similaity_value_list=similaity_value_list[0]\n",
    "        all_similar_flipkart=[]\n",
    "        count=0\n",
    "        for i in similaity_value_list:\n",
    "            # Only taking products which have similairty value greater than 0.9\n",
    "            if i>0.97:\n",
    "                if count>20000:\n",
    "                    all_similar_flipkart.append(count)\n",
    "            count+=1\n",
    "        #print(all_similar_flipkart)\n",
    "        print(\"Prices comparison between amazon and flipkart\")\n",
    "        for i in amazon_dump_2:\n",
    "            print(\"-----------------------------------------------\")\n",
    "            print(f\"Product name in amazon: {amazon_products['product_name'][i]}\")\n",
    "            print(f\"Retail price in amazon: {amazon_products['retail_price'][i]}\")\n",
    "            print(f\"Discounted price in amazon: {amazon_products['discounted_price'][i]}\")\n",
    "        for i in all_similar_flipkart:\n",
    "            print(\"-----------------------------------------------\")\n",
    "            print(f\"Product name in flipkart: {flipkart_products['product_name'][i-20000]}\")\n",
    "            print(f\"Retail price in flipkart: {flipkart_products['retail_price'][i-20000]}\")\n",
    "            print(f\"Discounted price in flipkart: {flipkart_products['discounted_price'][i-20000]}\")"
   ]
  },
  {
   "cell_type": "markdown",
   "id": "133947e9",
   "metadata": {},
   "source": [
    "***Comparison of models***"
   ]
  },
  {
   "cell_type": "markdown",
   "id": "e5ac0e7a",
   "metadata": {},
   "source": [
    "Instead of using transformer library from hugging face we can use Transformers amd pytorch, in which we do the background functions in above method such as creating word embeddingds, masking etc; . But despite doing all that the difference in similarity will be very less like 0.0001 (not brings huge change in results). \n",
    "So i have sticked with directly using library from hugging face"
   ]
  },
  {
   "cell_type": "markdown",
   "id": "49b5b519",
   "metadata": {},
   "source": [
    "Even using hugging face we can load several modles.\n",
    "The model i loaded above is 'bert-base-nli-mean-tokens', it maps sentences to 768 dimensional dense vector space\n",
    "It is also one of the recently updated models\n",
    "I have used other models which maps sentences to 384 dimensional dense vector space  such as 'multi-qa-MiniLM-L6-cos-v1', 'paraphrase-MiniLM-L12-v2'\n",
    "Although these displays almost same result, but the similairty value between two sentences will be reduced may be due to reduce in vector space"
   ]
  },
  {
   "cell_type": "markdown",
   "id": "04421a72",
   "metadata": {},
   "source": [
    "I haven't included them as the body remains the same only loading of the model changes, and each loading takes around 30min."
   ]
  },
  {
   "cell_type": "code",
   "execution_count": null,
   "id": "0959d488",
   "metadata": {},
   "outputs": [],
   "source": []
  }
 ],
 "metadata": {
  "kernelspec": {
   "display_name": "Python 3 (ipykernel)",
   "language": "python",
   "name": "python3"
  },
  "language_info": {
   "codemirror_mode": {
    "name": "ipython",
    "version": 3
   },
   "file_extension": ".py",
   "mimetype": "text/x-python",
   "name": "python",
   "nbconvert_exporter": "python",
   "pygments_lexer": "ipython3",
   "version": "3.8.5"
  }
 },
 "nbformat": 4,
 "nbformat_minor": 5
}
